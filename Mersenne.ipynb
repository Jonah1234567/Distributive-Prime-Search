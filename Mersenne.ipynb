{
  "cells": [
    {
      "cell_type": "markdown",
      "source": [
        "# Mersenne Primes"
      ],
      "metadata": {
        "id": "Th0SjOS3a_pI"
      }
    },
    {
      "cell_type": "markdown",
      "source": [
        "## Imports"
      ],
      "metadata": {
        "id": "oQRW5oSNbhvU"
      }
    },
    {
      "cell_type": "code",
      "execution_count": null,
      "metadata": {
        "id": "lsyO7HLH8zkT"
      },
      "outputs": [],
      "source": [
        "import math\n",
        "from sys import stdout\n",
        "from math import sqrt, log\n",
        "import time"
      ]
    },
    {
      "cell_type": "markdown",
      "source": [
        "## Function Definitions"
      ],
      "metadata": {
        "id": "hlc3WG8rbj5N"
      }
    },
    {
      "cell_type": "markdown",
      "source": [
        "### Prime Number Functions"
      ],
      "metadata": {
        "id": "I0UnnBo7cmVh"
      }
    },
    {
      "cell_type": "code",
      "execution_count": null,
      "metadata": {
        "id": "nutVyCVTMQkj",
        "colab": {
          "base_uri": "https://localhost:8080/",
          "height": 87
        },
        "outputId": "47fa6f23-5b87-4b34-abb1-7ad66281e117"
      },
      "outputs": [
        {
          "output_type": "stream",
          "name": "stdout",
          "text": [
            "False\n"
          ]
        },
        {
          "output_type": "execute_result",
          "data": {
            "text/plain": [
              "\"\\ntimes = np.zeros((2000))\\nindex = np.zeros((2000))\\nfor i in range(2000):\\n  start_time = time.time()\\n  for j in range(10):\\n    is_mersenne_prime(i)\\n  end_time = time.time()\\n  times[i] = end_time-start_time\\n  index[i] = i\\nimport matplotlib.pyplot as plt\\nplt.plot(index, times)\\nplt.ylabel('some numbers')\\nplt.show()\\n\\n\""
            ],
            "application/vnd.google.colaboratory.intrinsic+json": {
              "type": "string"
            }
          },
          "metadata": {},
          "execution_count": 4
        }
      ],
      "source": [
        "#https://rosettacode.org/wiki/Lucas-Lehmer_test#Python \n",
        "\n",
        "def is_prime ( p ): # checks if a number is prime\n",
        "  if p == 2: return True # Lucas-Lehmer test only works on odd primes\n",
        "  elif p <= 1 or p % 2 == 0: return False\n",
        "  else:\n",
        "    for i in range(3, int(sqrt(p))+1, 2 ): \n",
        "      if p % i == 0: return False\n",
        "    return True\n",
        "\n",
        "def is_mersenne_prime ( p ): # does LLT test for primality\n",
        "  if p == 2:\n",
        "    return True\n",
        "  else:\n",
        "    m_p = ( 1 << p ) - 1\n",
        "    s = 4\n",
        "    for i in range(3, p+1): \n",
        "      s = (s ** 2 - 2) % m_p\n",
        "    return s == 0\n",
        "import numpy as np\n",
        "\n",
        "\n",
        "\"\"\"\n",
        "times = np.zeros((2000))\n",
        "index = np.zeros((2000))\n",
        "for i in range(2000):\n",
        "  start_time = time.time()\n",
        "  for j in range(10):\n",
        "    is_mersenne_prime(i)\n",
        "  end_time = time.time()\n",
        "  times[i] = end_time-start_time\n",
        "  index[i] = i\n",
        "import matplotlib.pyplot as plt\n",
        "plt.plot(index, times)\n",
        "plt.ylabel('some numbers')\n",
        "plt.show()\n",
        "\n",
        "\"\"\""
      ]
    },
    {
      "cell_type": "code",
      "source": [
        "\n",
        "print(is_mersenne_prime(30000))\n"
      ],
      "metadata": {
        "colab": {
          "base_uri": "https://localhost:8080/"
        },
        "id": "FXEX1erLY_Rr",
        "outputId": "f2553169-e64b-4322-b1f2-ae2d30232076"
      },
      "execution_count": null,
      "outputs": [
        {
          "output_type": "stream",
          "name": "stdout",
          "text": [
            "False\n"
          ]
        }
      ]
    },
    {
      "cell_type": "markdown",
      "source": [
        "## Implementation"
      ],
      "metadata": {
        "id": "9tFtoRWZbnzx"
      }
    },
    {
      "cell_type": "code",
      "source": [
        "precision = 20000   # maximum requested number of decimal places of 2 ** MP-1 #\n",
        "long_bits_width = precision * log(10, 2)\n",
        "upb_prime = 100\n",
        "upb_count = 45      # find 45 mprimes if int was given enough bits #\n",
        "\n",
        "\"\"\"\n",
        "print (\" Finding Mersenne primes in M[2..%d]:\"%upb_prime)\n",
        "start = time.time()\n",
        "print(is_mersenne_prime(9942))\n",
        "end = time.time()\n",
        "print(\"Seconds: \", end-start)\n",
        "\n",
        "count=0\n",
        "for p in range(2, int(upb_prime+1)): \n",
        "  if is_prime(p) and is_mersenne_prime(p):\n",
        "    print(\"M%d\"%p),\n",
        "    stdout.flush()\n",
        "    count += 1\n",
        "  if count >= upb_count: break\n",
        "print\n",
        "\n",
        "precision = 20000   # maximum requested number of decimal places of 2 ** MP-1 #\n",
        "long_bits_width = precision * log(10, 2)\n",
        "upb_prime = int( long_bits_width - 1 ) / 2    # no unsigned #\n",
        "upb_prime = 5000\n",
        "upb_count = 45      # find 45 mprimes if int was given enough bits #\n",
        " \n",
        "print (\" Finding Mersenne primes in M[2..%d]:\"%upb_prime)\n",
        "\n",
        "count=0\n",
        "\n",
        "start = time.time()\n",
        "\n",
        "for p in range(3000, int(upb_prime+1)): \n",
        "  if is_prime and is_mersenne_prime(p):\n",
        "    print(\"M%d\"%p),\n",
        "    stdout.flush()\n",
        "    count += 1\n",
        "  if count >= upb_count: break\n",
        "print\n",
        "end = time.time()\n",
        "print(\"Milliseconds spent working: \",(end - start)*1000)\n",
        "\n",
        "\"\"\"\n",
        " "
      ],
      "metadata": {
        "colab": {
          "base_uri": "https://localhost:8080/",
          "height": 174
        },
        "id": "2glCsdWFYhWP",
        "outputId": "82adffb2-bbaa-48d8-f517-b48dc37f503a"
      },
      "execution_count": null,
      "outputs": [
        {
          "output_type": "execute_result",
          "data": {
            "text/plain": [
              "'\\nprint (\" Finding Mersenne primes in M[2..%d]:\"%upb_prime)\\nstart = time.time()\\nprint(is_mersenne_prime(9942))\\nend = time.time()\\nprint(\"Seconds: \", end-start)\\n\\ncount=0\\nfor p in range(2, int(upb_prime+1)): \\n  if is_prime(p) and is_mersenne_prime(p):\\n    print(\"M%d\"%p),\\n    stdout.flush()\\n    count += 1\\n  if count >= upb_count: break\\nprint\\n\\nprecision = 20000   # maximum requested number of decimal places of 2 ** MP-1 #\\nlong_bits_width = precision * log(10, 2)\\nupb_prime = int( long_bits_width - 1 ) / 2    # no unsigned #\\nupb_prime = 5000\\nupb_count = 45      # find 45 mprimes if int was given enough bits #\\n \\nprint (\" Finding Mersenne primes in M[2..%d]:\"%upb_prime)\\n\\ncount=0\\n\\nstart = time.time()\\n\\nfor p in range(3000, int(upb_prime+1)): \\n  if is_prime and is_mersenne_prime(p):\\n    print(\"M%d\"%p),\\n    stdout.flush()\\n    count += 1\\n  if count >= upb_count: break\\nprint\\nend = time.time()\\nprint(\"Milliseconds spent working: \",(end - start)*1000)\\n\\n'"
            ],
            "application/vnd.google.colaboratory.intrinsic+json": {
              "type": "string"
            }
          },
          "metadata": {},
          "execution_count": 3
        }
      ]
    },
    {
      "cell_type": "markdown",
      "source": [
        "# Bifrost"
      ],
      "metadata": {
        "id": "6f7QPYTobtj5"
      }
    },
    {
      "cell_type": "markdown",
      "source": [
        "## Bifrost Setup"
      ],
      "metadata": {
        "id": "zxgVuLcpbVsY"
      }
    },
    {
      "cell_type": "code",
      "source": [
        "# Downloads and installs a customized Node.js backend for this notebook\n",
        "# This may take a few moments when first executed in a new runtime\n",
        "\n",
        "!npm install -g n && n 16.15.0\n",
        "!pip install -q git+https://github.com/Kings-Distributed-Systems/Bifrost\n",
        "\n",
        "from bifrost import dcp"
      ],
      "metadata": {
        "colab": {
          "base_uri": "https://localhost:8080/"
        },
        "id": "zVG0p167bcfU",
        "outputId": "f9f4d7e7-a383-402c-ebc0-e5c7c18fd50d"
      },
      "execution_count": null,
      "outputs": [
        {
          "output_type": "stream",
          "name": "stdout",
          "text": [
            "\u001b[K\u001b[?25h\n",
            "changed 1 package, and audited 2 packages in 562ms\n",
            "\n",
            "found \u001b[32m\u001b[1m0\u001b[22m\u001b[39m vulnerabilities\n",
            "  \u001b[36m   copying\u001b[0m : \u001b[2mnode/16.15.0\u001b[0m\n",
            "  \u001b[36m installed\u001b[0m : \u001b[2mv16.15.0 (with npm 8.5.5)\u001b[0m\n"
          ]
        }
      ]
    },
    {
      "cell_type": "code",
      "source": [
        "# Loads a DCP Account keystore containing compute Credits\n",
        "# When prompted, please upload your keystore file\n",
        "\n",
        "from google.colab import files\n",
        "\n",
        "KEYSTORE_NAME = list(files.upload().keys())[0]\n",
        "\n",
        "!mkdir -p ~/.dcp\n",
        "!cp /content/$KEYSTORE_NAME ~/.dcp/default.keystore\n",
        "!cp /content/$KEYSTORE_NAME ~/.dcp/id.keystore"
      ],
      "metadata": {
        "colab": {
          "resources": {
            "http://localhost:8080/nbextensions/google.colab/files.js": {
              "data": "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",
              "ok": true,
              "headers": [
                [
                  "content-type",
                  "application/javascript"
                ]
              ],
              "status": 200,
              "status_text": ""
            }
          },
          "base_uri": "https://localhost:8080/",
          "height": 256
        },
        "id": "vKbKKO6Ebcl-",
        "outputId": "0513a20b-fb47-46b8-fb2c-7954e3ca0fe7"
      },
      "execution_count": null,
      "outputs": [
        {
          "output_type": "display_data",
          "data": {
            "text/plain": [
              "<IPython.core.display.HTML object>"
            ],
            "text/html": [
              "\n",
              "     <input type=\"file\" id=\"files-bd943f00-bc29-4a3c-a607-faef8fd1bdc1\" name=\"files[]\" multiple disabled\n",
              "        style=\"border:none\" />\n",
              "     <output id=\"result-bd943f00-bc29-4a3c-a607-faef8fd1bdc1\">\n",
              "      Upload widget is only available when the cell has been executed in the\n",
              "      current browser session. Please rerun this cell to enable.\n",
              "      </output>\n",
              "      <script src=\"/nbextensions/google.colab/files.js\"></script> "
            ]
          },
          "metadata": {}
        },
        {
          "output_type": "error",
          "ename": "IndexError",
          "evalue": "ignored",
          "traceback": [
            "\u001b[0;31m---------------------------------------------------------------------------\u001b[0m",
            "\u001b[0;31mIndexError\u001b[0m                                Traceback (most recent call last)",
            "\u001b[0;32m<ipython-input-5-fa94c66a2115>\u001b[0m in \u001b[0;36m<module>\u001b[0;34m()\u001b[0m\n\u001b[1;32m      4\u001b[0m \u001b[0;32mfrom\u001b[0m \u001b[0mgoogle\u001b[0m\u001b[0;34m.\u001b[0m\u001b[0mcolab\u001b[0m \u001b[0;32mimport\u001b[0m \u001b[0mfiles\u001b[0m\u001b[0;34m\u001b[0m\u001b[0;34m\u001b[0m\u001b[0m\n\u001b[1;32m      5\u001b[0m \u001b[0;34m\u001b[0m\u001b[0m\n\u001b[0;32m----> 6\u001b[0;31m \u001b[0mKEYSTORE_NAME\u001b[0m \u001b[0;34m=\u001b[0m \u001b[0mlist\u001b[0m\u001b[0;34m(\u001b[0m\u001b[0mfiles\u001b[0m\u001b[0;34m.\u001b[0m\u001b[0mupload\u001b[0m\u001b[0;34m(\u001b[0m\u001b[0;34m)\u001b[0m\u001b[0;34m.\u001b[0m\u001b[0mkeys\u001b[0m\u001b[0;34m(\u001b[0m\u001b[0;34m)\u001b[0m\u001b[0;34m)\u001b[0m\u001b[0;34m[\u001b[0m\u001b[0;36m0\u001b[0m\u001b[0;34m]\u001b[0m\u001b[0;34m\u001b[0m\u001b[0;34m\u001b[0m\u001b[0m\n\u001b[0m\u001b[1;32m      7\u001b[0m \u001b[0;34m\u001b[0m\u001b[0m\n\u001b[1;32m      8\u001b[0m \u001b[0mget_ipython\u001b[0m\u001b[0;34m(\u001b[0m\u001b[0;34m)\u001b[0m\u001b[0;34m.\u001b[0m\u001b[0msystem\u001b[0m\u001b[0;34m(\u001b[0m\u001b[0;34m'mkdir -p ~/.dcp'\u001b[0m\u001b[0;34m)\u001b[0m\u001b[0;34m\u001b[0m\u001b[0;34m\u001b[0m\u001b[0m\n",
            "\u001b[0;31mIndexError\u001b[0m: list index out of range"
          ]
        }
      ]
    },
    {
      "cell_type": "markdown",
      "source": [
        "##Function Definitions"
      ],
      "metadata": {
        "id": "1IJu72R6dCQ7"
      }
    },
    {
      "cell_type": "markdown",
      "source": [
        "### Slice Shaping Functions"
      ],
      "metadata": {
        "id": "RAOnJ-AYcqci"
      }
    },
    {
      "cell_type": "code",
      "source": [
        "def end_case(lists, limit):\n",
        "  i = 0\n",
        "  while i < len(lists):\n",
        "    if (sum(lists[i])+sum(lists[i-1]))<limit:\n",
        "      lists[i-1] = lists[i-1] + lists[i]\n",
        "      lists.remove(lists[i])\n",
        "      i-=1\n",
        "    i+=1\n",
        "  return lists\n",
        "\n",
        "def reshape(primes, limit):\n",
        "  primes.reverse()\n",
        "  reshaped_primes = []\n",
        "  while primes:\n",
        "    new_sublist = []\n",
        "    length = len(primes) \n",
        "    i = 0\n",
        "    while i < length:\n",
        "      if (sum(new_sublist) + primes[i])<= limit:\n",
        "        new_sublist.append(primes[i])\n",
        "        primes.remove(primes[i])\n",
        "        \n",
        "        length -= 1\n",
        "      i += 1\n",
        "    reshaped_primes.append(new_sublist) \n",
        "  return end_case(reshaped_primes, limit)\n",
        "\n",
        "def gen_tests(size):\n",
        "  input_set = [None]*size\n",
        "  counter = 0\n",
        "  for i in range(1, size+1):\n",
        "    if is_prime(i):\n",
        "      input_set[counter] = i\n",
        "      counter+=1\n",
        "  return input_set[0:counter]\n",
        "\n",
        "new = reshape(gen_tests(100), 100)\n",
        "print(new)\n"
      ],
      "metadata": {
        "id": "K039mdHGcu2E",
        "colab": {
          "base_uri": "https://localhost:8080/"
        },
        "outputId": "29e7d411-21eb-4717-eb38-568a81b036b9"
      },
      "execution_count": null,
      "outputs": [
        {
          "output_type": "stream",
          "name": "stdout",
          "text": [
            "[[97, 3], [89, 11], [83, 17], [79, 19, 2], [73, 23], [71, 29], [67, 31], [61, 37], [59, 41], [53, 43], [47, 7, 13, 5]]\n"
          ]
        }
      ]
    },
    {
      "cell_type": "markdown",
      "source": [
        "## Work Function and DCP Code"
      ],
      "metadata": {
        "id": "pYnrPtGYbc0S"
      }
    },
    {
      "cell_type": "code",
      "execution_count": null,
      "metadata": {
        "colab": {
          "base_uri": "https://localhost:8080/",
          "height": 1000
        },
        "id": "dD_DKCkwKxEm",
        "outputId": "80088803-e7aa-4a1b-c647-9e82508fe620"
      },
      "outputs": [
        {
          "output_type": "stream",
          "name": "stdout",
          "text": [
            "[[19997, 19991, 19973, 19961, 19937, 139, 2], [19993, 19963, 19927, 19913, 19889, 313], [19979, 19919, 19867, 19853, 19841, 541], [19949, 19861, 19819, 19801, 19777, 787, 5], [19891, 19813, 19763, 19753, 19739, 1039], [19843, 19759, 19727, 19709, 19697, 1259, 3], [19793, 19717, 19687, 19661, 19603, 1531, 7], [19751, 19681, 19597, 19577, 19559, 1831], [19699, 19583, 19553, 19541, 19507, 2113], [19609, 19543, 19501, 19483, 19471, 2393], [19571, 19489, 19469, 19457, 19441, 2557, 13], [19531, 19463, 19433, 19427, 19421, 2719], [19477, 19429, 19417, 19391, 19381, 2903], [19447, 19403, 19379, 19333, 19309, 3121], [19423, 19373, 19301, 19273, 19259, 3371], [19387, 19289, 19249, 19231, 19213, 3631], [19319, 19237, 19211, 19183, 19163, 3881], [19267, 19207, 19157, 19139, 19087, 4139], [19219, 19141, 19081, 19073, 19051, 4423, 11], [19181, 19079, 19037, 19013, 19001, 4679], [19121, 19031, 18979, 18959, 18919, 4987], [19069, 18973, 18917, 18911, 18869, 5261], [19009, 18913, 18859, 18803, 18793, 5623], [18947, 18839, 18787, 18757, 18743, 5927], [18899, 18773, 18731, 18713, 18691, 6173, 19], [18797, 18719, 18679, 18661, 18617, 6521], [18749, 18671, 18593, 18583, 18541, 6863], [18701, 18587, 18539, 18521, 18503, 7129, 17], [18637, 18523, 18493, 18461, 18451, 7433], [18553, 18481, 18443, 18433, 18413, 7673], [18517, 18439, 18401, 18379, 18367, 7883], [18457, 18397, 18353, 18329, 18311, 8147], [18427, 18341, 18307, 18289, 18269, 8363], [18371, 18301, 18257, 18251, 18229, 8581], [18313, 18253, 18223, 18211, 18191, 8807], [18287, 18217, 18181, 18149, 18133, 9029], [18233, 18169, 18131, 18121, 18097, 9241], [18199, 18127, 18089, 18061, 18049, 9473], [18143, 18077, 18047, 18041, 17989, 9697], [18119, 18043, 17987, 17977, 17959, 9907], [18059, 17981, 17957, 17929, 17921, 10151], [18013, 17939, 17911, 17903, 17881, 10343], [17971, 17909, 17863, 17839, 17827, 10589], [17923, 17851, 17807, 17789, 17761, 10867], [17891, 17791, 17749, 17737, 17713, 11119], [17837, 17747, 17707, 17681, 17659, 11369], [17783, 17683, 17657, 17623, 17599, 11633], [17729, 17627, 17597, 17579, 17569, 11897], [17669, 17581, 17551, 17519, 17497, 12163], [17609, 17539, 17491, 17483, 17471, 12401], [17573, 17489, 17467, 17443, 17419, 12601], [17509, 17449, 17417, 17393, 17387, 12841], [17477, 17401, 17383, 17359, 17341, 13037], [17431, 17377, 17333, 17321, 17299, 13229], [17389, 17327, 17293, 17257, 17231, 13499], [17351, 17291, 17209, 17203, 17189, 13757], [17317, 17207, 17183, 17159, 17123, 14011], [17239, 17167, 17117, 17099, 17077, 14293], [17191, 17107, 17053, 17041, 17029, 14563], [17137, 17047, 17027, 17011, 16987, 14783], [17093, 17021, 16981, 16963, 16937, 14983], [17033, 16979, 16931, 16921, 16901, 15233], [16993, 16927, 16889, 16879, 16843, 15467], [16943, 16883, 16831, 16823, 16787, 15733], [16903, 16829, 16763, 16747, 16729, 16007], [16871, 16759, 16703, 16693, 16673, 16301], [16811, 16699, 16661, 16651, 16633, 16529], [16741, 16657, 16631, 16607, 16573, 16561, 229], [16691, 16619, 16567, 16547, 16493, 16481, 601], [16649, 16553, 16487, 16453, 16447, 16427, 983], [16603, 16477, 16433, 16417, 16381, 16363, 1321], [16519, 16421, 16369, 16349, 16333, 16273, 1733], [16451, 16361, 16319, 16253, 16231, 16223, 2161], [16411, 16267, 16229, 16193, 16187, 16141, 2551], [16339, 16217, 16183, 16127, 16103, 16091, 2939], [16249, 16139, 16097, 16073, 16067, 16061, 3313], [16189, 16087, 16063, 16033, 15991, 15971, 3659], [16111, 16057, 15973, 15937, 15919, 15907, 4093], [16069, 15959, 15913, 15889, 15881, 15859, 4421], [16001, 15901, 15877, 15817, 15803, 15791, 4801], [15923, 15823, 15797, 15773, 15761, 15739, 5179], [15887, 15787, 15749, 15731, 15683, 15671, 5483], [15809, 15737, 15679, 15661, 15647, 15641, 5821], [15767, 15667, 15643, 15619, 15601, 15581, 6121], [15727, 15629, 15583, 15559, 15541, 15511, 6449], [15649, 15569, 15527, 15493, 15461, 15443, 6857], [15607, 15497, 15451, 15427, 15401, 15383, 7229], [15551, 15439, 15391, 15373, 15359, 15331, 7549], [15473, 15377, 15349, 15319, 15307, 15289, 7879], [15413, 15329, 15299, 15277, 15269, 15259, 8123, 31], [15361, 15287, 15263, 15227, 15199, 15187, 8467], [15313, 15241, 15193, 15161, 15139, 15131, 8821], [15271, 15173, 15137, 15107, 15091, 15077, 9137], [15217, 15121, 15083, 15061, 15031, 15013, 9467], [15149, 15073, 15017, 14957, 14947, 14929, 9923], [15101, 14969, 14939, 14897, 14887, 14869, 10337], [15053, 14923, 14879, 14851, 14831, 14821, 10639], [14951, 14867, 14827, 14797, 14771, 14759, 11027], [14891, 14813, 14767, 14747, 14737, 14723, 11321], [14843, 14753, 14731, 14713, 14683, 14657, 11617], [14779, 14717, 14669, 14639, 14629, 14621, 11941], [14741, 14653, 14627, 14591, 14557, 14549, 12281], [14699, 14593, 14551, 14537, 14519, 14489, 12611], [14633, 14543, 14503, 14461, 14447, 14431, 12979], [14561, 14479, 14437, 14419, 14407, 14389, 13297], [14533, 14423, 14401, 14369, 14341, 14323, 13597], [14449, 14387, 14327, 14303, 14251, 14243, 14033], [14411, 14321, 14249, 14207, 14177, 14159, 14149, 317], [14347, 14221, 14173, 14143, 14087, 14081, 14057, 887], [14281, 14153, 14083, 14051, 14009, 13997, 13963, 1459], [14197, 14071, 13999, 13933, 13921, 13907, 13901, 2069], [14107, 13967, 13913, 13883, 13877, 13859, 13831, 2549], [14029, 13903, 13873, 13829, 13799, 13781, 13759, 3023], [13931, 13841, 13789, 13751, 13723, 13711, 13697, 3557], [13879, 13763, 13721, 13693, 13687, 13679, 13649, 3929], [13807, 13709, 13681, 13633, 13619, 13591, 13567, 4391], [13729, 13669, 13613, 13553, 13523, 13487, 13469, 4957], [13691, 13577, 13513, 13463, 13451, 13421, 13411, 5471], [13627, 13477, 13441, 13399, 13381, 13339, 13331, 5987], [13537, 13417, 13367, 13327, 13309, 13267, 13249, 6491, 29], [13457, 13337, 13291, 13241, 13217, 13183, 13171, 7103], [13397, 13259, 13187, 13163, 13151, 13127, 13109, 7607], [13313, 13177, 13147, 13103, 13093, 13049, 13033, 8081], [13219, 13121, 13063, 13009, 13003, 12983, 12967, 8629], [13159, 13043, 13001, 12959, 12941, 12919, 12911, 9067], [13099, 12973, 12923, 12907, 12893, 12853, 12823, 9521], [13007, 12917, 12889, 12821, 12799, 12781, 12757, 10009], [12953, 12829, 12791, 12743, 12721, 12703, 12689, 10567], [12899, 12763, 12713, 12671, 12653, 12641, 12619, 11003, 37], [12809, 12697, 12647, 12613, 12583, 12569, 12547, 11527], [12739, 12637, 12577, 12541, 12527, 12511, 12497, 11971], [12659, 12553, 12517, 12491, 12479, 12457, 12437, 12391], [12589, 12503, 12473, 12433, 12413, 12379, 12373, 12343, 491], [12539, 12451, 12409, 12347, 12323, 12289, 12269, 12253, 1117], [12487, 12377, 12301, 12263, 12241, 12227, 12203, 12161, 1723], [12421, 12277, 12239, 12197, 12149, 12119, 12109, 12101, 2383], [12329, 12211, 12143, 12107, 12073, 12049, 12041, 12011, 3019], [12251, 12113, 12071, 12037, 11987, 11969, 11953, 11933, 3677], [12157, 12043, 11981, 11939, 11923, 11903, 11867, 11839, 4339], [12097, 11959, 11909, 11863, 11831, 11821, 11807, 11789, 4919], [12007, 11887, 11827, 11801, 11779, 11743, 11719, 11701, 5531], [11927, 11813, 11777, 11717, 11689, 11677, 11621, 11593, 6163, 23], [11833, 11731, 11681, 11597, 11579, 11549, 11503, 11491, 7027], [11783, 11657, 11551, 11497, 11483, 11467, 11443, 11423, 7691], [11699, 11519, 11471, 11437, 11399, 11383, 11351, 11317, 8423], [11587, 11447, 11393, 11329, 11299, 11279, 11261, 11251, 9151], [11489, 11353, 11287, 11257, 11239, 11197, 11173, 11161, 9839], [11411, 11273, 11213, 11171, 11149, 11117, 11093, 11083, 10487], [11311, 11177, 11131, 11087, 11069, 11057, 10993, 10979, 10957, 239], [11243, 11113, 11059, 10987, 10949, 10937, 10903, 10889, 10861, 1051], [11159, 11047, 10939, 10891, 10859, 10847, 10831, 10789, 10771, 1867], [11071, 10909, 10853, 10799, 10753, 10733, 10723, 10709, 10687, 2753], [10973, 10837, 10739, 10711, 10667, 10657, 10631, 10613, 10601, 3571], [10883, 10729, 10663, 10627, 10597, 10531, 10513, 10499, 10463, 4493], [10781, 10651, 10559, 10501, 10459, 10453, 10429, 10399, 10369, 5399], [10691, 10529, 10457, 10427, 10357, 10331, 10313, 10301, 10273, 6317], [10607, 10433, 10333, 10303, 10271, 10259, 10247, 10223, 10193, 7127], [10477, 10321, 10267, 10243, 10181, 10169, 10159, 10139, 10111, 7933], [10391, 10253, 10177, 10141, 10103, 10093, 10079, 10067, 10039, 8647], [10289, 10163, 10099, 10069, 10037, 9973, 9949, 9931, 9901, 9587], [10211, 10091, 10007, 9941, 9887, 9871, 9857, 9833, 9817, 9803, 677], [10133, 9967, 9883, 9851, 9811, 9787, 9769, 9749, 9739, 9721, 1583], [10061, 9859, 9791, 9767, 9733, 9689, 9677, 9649, 9631, 9623, 2503], [9929, 9781, 9719, 9661, 9629, 9613, 9551, 9539, 9511, 9491, 3559], [9829, 9679, 9619, 9547, 9497, 9463, 9439, 9433, 9421, 9413, 4657], [9743, 9601, 9479, 9437, 9419, 9397, 9377, 9349, 9341, 9323, 5527], [9643, 9461, 9403, 9371, 9337, 9311, 9283, 9277, 9239, 9221, 6451], [9533, 9391, 9319, 9281, 9227, 9203, 9187, 9173, 9157, 9127, 7393], [9431, 9293, 9209, 9181, 9133, 9103, 9059, 9043, 9013, 9007, 8527], [9343, 9199, 9109, 9049, 9011, 8999, 8969, 8951, 8933, 8923, 8887, 619], [9257, 9091, 9001, 8963, 8929, 8867, 8861, 8839, 8831, 8803, 8779, 1777], [9161, 8971, 8893, 8849, 8819, 8761, 8747, 8737, 8719, 8707, 8693, 2927], [9041, 8863, 8783, 8741, 8713, 8689, 8677, 8663, 8627, 8609, 8597, 3989], [8941, 8753, 8699, 8669, 8623, 8573, 8543, 8537, 8513, 8461, 8443, 5237], [8837, 8681, 8599, 8539, 8501, 8431, 8419, 8387, 8369, 8329, 8311, 6581], [8731, 8563, 8447, 8389, 8353, 8297, 8291, 8273, 8263, 8237, 8231, 7919], [8641, 8429, 8317, 8287, 8243, 8221, 8209, 8179, 8167, 8117, 8101, 8089, 997], [8521, 8293, 8233, 8191, 8161, 8093, 8069, 8053, 8017, 8009, 7963, 7949, 2447], [8377, 8219, 8111, 8059, 8011, 7951, 7927, 7901, 7873, 7853, 7829, 7817, 4057], [8269, 8087, 7993, 7907, 7867, 7823, 7789, 7757, 7741, 7723, 7703, 7687, 5653], [8171, 7937, 7841, 7759, 7727, 7699, 7669, 7643, 7621, 7591, 7583, 7573, 7177], [8039, 7793, 7717, 7649, 7603, 7577, 7559, 7541, 7529, 7517, 7499, 7487, 7477, 1013], [7877, 7681, 7589, 7547, 7523, 7489, 7459, 7451, 7411, 7351, 7333, 7321, 7307, 2659], [7753, 7561, 7507, 7457, 7369, 7331, 7297, 7253, 7243, 7219, 7211, 7193, 7159, 4447], [7639, 7481, 7349, 7283, 7237, 7207, 7151, 7109, 7069, 7043, 7019, 7001, 6991, 6421], [7537, 7309, 7213, 7121, 7057, 7013, 6983, 6971, 6961, 6949, 6917, 6907, 6883, 6869, 1307], [7417, 7187, 7039, 6977, 6959, 6911, 6871, 6833, 6827, 6803, 6791, 6779, 6761, 6733, 3109], [7247, 6997, 6947, 6841, 6823, 6781, 6737, 6709, 6701, 6689, 6673, 6659, 6637, 6607, 4951], [7079, 6899, 6793, 6719, 6691, 6661, 6619, 6577, 6569, 6553, 6547, 6481, 6469, 6397, 6379, 563], [6967, 6763, 6679, 6599, 6563, 6529, 6427, 6373, 6361, 6353, 6337, 6323, 6301, 6287, 6271, 2861], [6829, 6653, 6551, 6389, 6359, 6329, 6299, 6269, 6257, 6229, 6217, 6203, 6197, 6143, 6131, 4943], [6703, 6473, 6343, 6277, 6247, 6211, 6151, 6113, 6091, 6079, 6067, 6047, 6037, 6011, 5981, 5939, 1229], [6571, 6311, 6221, 6133, 6089, 6053, 6029, 5953, 5903, 5881, 5869, 5861, 5851, 5843, 5827, 5807, 3797], [6367, 6199, 6073, 6007, 5897, 5867, 5849, 5813, 5791, 5779, 5743, 5737, 5711, 5693, 5683, 5659, 5651, 479], [6263, 6043, 5879, 5839, 5783, 5741, 5701, 5669, 5647, 5639, 5581, 5569, 5557, 5519, 5503, 5479, 5449, 3137], [6101, 5857, 5749, 5689, 5641, 5573, 5521, 5501, 5443, 5437, 5419, 5413, 5393, 5381, 5347, 5323, 5303, 5281, 617], [5923, 5717, 5591, 5507, 5441, 5417, 5387, 5333, 5297, 5273, 5231, 5209, 5189, 5167, 5147, 5113, 5101, 5087, 3863], [5801, 5563, 5431, 5351, 5279, 5227, 5171, 5119, 5099, 5077, 5051, 5023, 5011, 5003, 4993, 4969, 4937, 4931, 4903, 2053], [5657, 5407, 5233, 5153, 5081, 5039, 5009, 4973, 4933, 4889, 4871, 4831, 4813, 4793, 4787, 4759, 4733, 4723, 4703, 4673, 937], [5477, 5197, 5059, 4999, 4909, 4861, 4799, 4783, 4729, 4691, 4651, 4643, 4637, 4603, 4591, 4567, 4549, 4523, 4517, 4507, 4481, 227], [5309, 5021, 4877, 4789, 4721, 4649, 4621, 4583, 4547, 4513, 4463, 4451, 4409, 4373, 4357, 4337, 4297, 4283, 4271, 4259, 4243, 4231, 389], [5107, 4817, 4663, 4597, 4519, 4457, 4397, 4349, 4289, 4261, 4241, 4219, 4211, 4177, 4157, 4133, 4127, 4099, 4079, 4051, 4027, 4019, 4007, 991], [4967, 4639, 4483, 4363, 4273, 4229, 4201, 4153, 4111, 4073, 4021, 4003, 3967, 3943, 3923, 3917, 3907, 3877, 3851, 3833, 3821, 3793, 3769, 3761, 2111], [4751, 4441, 4253, 4159, 4091, 4013, 3947, 3919, 3889, 3847, 3803, 3767, 3733, 3719, 3701, 3691, 3671, 3637, 3617, 3607, 3583, 3547, 3539, 3529, 3517, 3499, 523], [4561, 4217, 4049, 3931, 3853, 3779, 3727, 3697, 3643, 3613, 3581, 3533, 3511, 3469, 3463, 3457, 3433, 3407, 3389, 3361, 3347, 3331, 3323, 3307, 3299, 3259, 3253, 3203], [4327, 4001, 3823, 3709, 3623, 3541, 3491, 3461, 3413, 3373, 3343, 3319, 3271, 3251, 3221, 3209, 3187, 3169, 3163, 3089, 3079, 3061, 3041, 3011, 2999, 2969, 2957, 2917, 2897, 2879, 1201], [4129, 3739, 3593, 3467, 3391, 3329, 3257, 3217, 3181, 3119, 3067, 3037, 2971, 2953, 2887, 2851, 2837, 2819, 2801, 2791, 2777, 2749, 2731, 2713, 2707, 2693, 2687, 2677, 2663, 2647, 2621, 2609, 2591, 1699], [3911, 3527, 3359, 3229, 3167, 3049, 2963, 2857, 2833, 2797, 2767, 2729, 2699, 2683, 2657, 2617, 2579, 2539, 2521, 2473, 2459, 2437, 2417, 2399, 2381, 2371, 2351, 2341, 2333, 2309, 2293, 2281, 2269, 2251, 2239, 2221, 2207, 2179, 293], [3673, 3301, 3083, 2909, 2803, 2741, 2689, 2633, 2543, 2477, 2441, 2411, 2377, 2347, 2311, 2287, 2267, 2237, 2203, 2143, 2137, 2129, 2089, 2083, 2063, 2029, 2017, 2003, 1997, 1987, 1973, 1949, 1931, 1907, 1889, 1877, 1871, 1847, 1811, 1789, 1783, 1753, 1741, 1709, 1693, 67], [3449, 3001, 2789, 2671, 2531, 2423, 2357, 2297, 2243, 2153, 2131, 2087, 2039, 2011, 1993, 1951, 1913, 1879, 1861, 1801, 1759, 1721, 1669, 1663, 1637, 1621, 1613, 1607, 1597, 1571, 1559, 1549, 1523, 1499, 1489, 1483, 1471, 1451, 1439, 1429, 1423, 1399, 1373, 1361, 1319, 1301, 1291, 1283, 1277, 1237, 1223, 1213, 1187, 1171, 1153, 1129, 1109, 1097, 521], [3191, 2711, 2467, 2339, 2213, 2099, 2027, 1979, 1901, 1823, 1747, 1667, 1627, 1609, 1579, 1553, 1511, 1487, 1453, 1433, 1409, 1367, 1303, 1289, 1249, 1217, 1181, 1151, 1103, 1091, 1069, 1061, 1033, 1021, 1009, 971, 953, 941, 919, 907, 881, 863, 857, 839, 827, 821, 809, 773, 761, 751, 739, 727, 709, 691, 673, 659, 647, 641, 613, 599, 587, 571, 557, 509, 499, 467, 461, 449, 439, 431, 419, 401, 383, 373, 359, 349, 337, 311, 283, 277, 269, 257, 241, 223, 199, 193, 181, 173, 163, 151, 137, 127, 109, 103, 97, 83, 73, 61, 53, 43], [2843, 2389, 2141, 1999, 1873, 1697, 1619, 1567, 1493, 1447, 1381, 1297, 1231, 1163, 1093, 1063, 1031, 977, 947, 911, 877, 853, 823, 797, 757, 733, 701, 661, 643, 607, 577, 547, 487, 457, 433, 409, 379, 353, 331, 281, 263, 233, 197, 179, 157, 131, 107, 89, 71, 47, 2593, 2081, 1787, 1601, 1481, 1327, 1193, 1087, 1019, 929, 859, 811, 743, 683, 631, 569, 463, 421, 367, 307, 251, 191, 149, 101, 59, 2273, 1657, 1427, 1123, 967, 829, 719, 593, 443, 347, 211, 113, 41, 1933, 1279, 883, 653, 397, 167, 1543, 769, 271, 1049, 79, 503]]\n",
            "proceeding with currently installed version of dcp-client\n",
            "State : exec\n",
            "State : init\n",
            "State : preauth\n",
            "State : deploying\n",
            "State : listeners\n",
            "State : compute-groups\n",
            "State : uploading\n",
            "State : deployed\n",
            "Accepted : 0x5C8a2477AA6eB7e7Ba4AEeedBd039e0d20e70EbC\n",
            "Computed : 0.47%\n",
            "Computed : 0.94%\n",
            "Computed : 1.42%\n",
            "Computed : 1.89%\n",
            "Computed : 2.36%\n",
            "Computed : 2.83%\n",
            "Computed : 3.30%\n",
            "Computed : 3.77%\n",
            "Computed : 4.25%\n",
            "Computed : 4.72%\n",
            "Computed : 5.19%\n",
            "Computed : 5.66%\n",
            "Computed : 6.13%\n",
            "Computed : 6.60%\n",
            "Computed : 7.08%\n",
            "Computed : 7.55%\n",
            "Computed : 8.02%\n",
            "Computed : 8.49%\n",
            "Computed : 8.96%\n",
            "Computed : 9.43%\n",
            "Computed : 9.91%\n",
            "Computed : 10.38%\n",
            "Computed : 10.85%\n",
            "Computed : 11.32%\n",
            "Computed : 11.79%\n",
            "Computed : 12.26%\n",
            "Computed : 12.74%\n",
            "Computed : 13.21%\n",
            "Computed : 13.68%\n",
            "Computed : 14.15%\n",
            "Computed : 14.62%\n",
            "Computed : 15.09%\n",
            "Computed : 15.57%\n",
            "Computed : 16.04%\n",
            "Computed : 16.51%\n",
            "Computed : 16.98%\n",
            "Computed : 17.45%\n",
            "Computed : 17.92%\n",
            "Computed : 18.40%\n",
            "Computed : 18.87%\n",
            "Computed : 19.34%\n",
            "Computed : 19.81%\n",
            "Computed : 20.28%\n",
            "Computed : 20.75%\n",
            "Computed : 21.23%\n",
            "Computed : 21.70%\n",
            "Computed : 22.17%\n",
            "Computed : 22.64%\n",
            "Computed : 23.11%\n",
            "Computed : 23.58%\n",
            "Computed : 24.06%\n",
            "Computed : 24.53%\n",
            "Computed : 25.00%\n",
            "Computed : 25.47%\n",
            "Computed : 25.94%\n",
            "Computed : 26.42%\n",
            "Computed : 26.89%\n",
            "Computed : 27.36%\n",
            "Computed : 27.83%\n",
            "Computed : 28.30%\n",
            "Computed : 28.77%\n",
            "Computed : 29.25%\n",
            "Computed : 29.72%\n",
            "Computed : 30.19%\n",
            "Computed : 30.66%\n",
            "Computed : 31.13%\n",
            "Computed : 31.60%\n",
            "Computed : 32.08%\n",
            "Computed : 32.55%\n",
            "Computed : 33.02%\n",
            "Computed : 33.49%\n",
            "Computed : 33.96%\n",
            "Computed : 34.43%\n",
            "Computed : 34.91%\n",
            "Computed : 35.38%\n",
            "Computed : 35.85%\n",
            "Computed : 36.32%\n",
            "Computed : 36.79%\n",
            "Computed : 37.26%\n",
            "Computed : 37.74%\n",
            "Computed : 38.21%\n",
            "Computed : 38.68%\n",
            "Computed : 39.15%\n",
            "Computed : 39.62%\n",
            "Computed : 40.09%\n",
            "Computed : 40.57%\n",
            "Computed : 41.04%\n",
            "Computed : 41.51%\n",
            "Computed : 41.98%\n",
            "Computed : 42.45%\n",
            "Computed : 42.92%\n",
            "Computed : 43.40%\n",
            "Computed : 43.87%\n",
            "Computed : 44.34%\n",
            "Computed : 44.81%\n",
            "Computed : 45.28%\n",
            "Computed : 45.75%\n",
            "Computed : 46.23%\n",
            "Computed : 46.70%\n",
            "Computed : 47.17%\n",
            "Computed : 47.64%\n",
            "Computed : 48.11%\n",
            "Computed : 48.58%\n",
            "Computed : 49.06%\n",
            "Computed : 49.53%\n",
            "Computed : 50.00%\n",
            "Computed : 50.47%\n",
            "Computed : 50.94%\n",
            "Computed : 51.42%\n",
            "Computed : 51.89%\n",
            "Computed : 52.36%\n",
            "Computed : 52.83%\n",
            "Computed : 53.30%\n",
            "Computed : 53.77%\n",
            "Computed : 54.25%\n",
            "Computed : 54.72%\n",
            "Computed : 55.19%\n",
            "Computed : 55.66%\n",
            "Computed : 56.13%\n",
            "Computed : 56.60%\n",
            "Computed : 57.08%\n",
            "Computed : 57.55%\n",
            "Computed : 58.02%\n",
            "Computed : 58.49%\n",
            "Computed : 58.96%\n",
            "Computed : 59.43%\n",
            "Computed : 59.91%\n",
            "Computed : 60.38%\n",
            "Computed : 60.85%\n",
            "Computed : 61.32%\n",
            "Computed : 61.79%\n",
            "Computed : 62.26%\n",
            "Computed : 62.74%\n",
            "Computed : 63.21%\n",
            "Computed : 63.68%\n",
            "Computed : 64.15%\n",
            "Computed : 64.62%\n",
            "Computed : 65.09%\n",
            "Computed : 65.57%\n",
            "Computed : 66.04%\n",
            "Computed : 66.51%\n",
            "Computed : 66.98%\n",
            "Computed : 67.45%\n",
            "Computed : 67.92%\n",
            "Computed : 68.40%\n",
            "Computed : 68.87%\n",
            "Computed : 69.34%\n",
            "Computed : 69.81%\n",
            "Computed : 70.28%\n",
            "Computed : 70.75%\n",
            "Computed : 71.23%\n",
            "Computed : 71.70%\n",
            "Computed : 72.17%\n",
            "Computed : 72.64%\n",
            "Computed : 73.11%\n",
            "Computed : 73.58%\n",
            "Computed : 74.06%\n",
            "Computed : 74.53%\n",
            "Computed : 75.00%\n",
            "Computed : 75.47%\n",
            "Computed : 75.94%\n",
            "Computed : 76.42%\n",
            "Computed : 76.89%\n",
            "Computed : 77.36%\n",
            "Computed : 77.83%\n",
            "Computed : 78.30%\n",
            "Computed : 78.77%\n",
            "Computed : 79.25%\n",
            "Computed : 79.72%\n",
            "Computed : 80.19%\n",
            "Computed : 80.66%\n",
            "Computed : 81.13%\n",
            "Computed : 81.60%\n",
            "Computed : 82.08%\n",
            "Computed : 82.55%\n",
            "Computed : 83.02%\n",
            "Computed : 83.49%\n",
            "Computed : 83.96%\n",
            "Computed : 84.43%\n",
            "Computed : 84.91%\n",
            "Computed : 85.38%\n",
            "Computed : 85.85%\n",
            "Computed : 86.32%\n",
            "Computed : 86.79%\n",
            "Computed : 87.26%\n",
            "Computed : 87.74%\n",
            "Computed : 88.21%\n",
            "Computed : 88.68%\n",
            "Computed : 89.15%\n",
            "Computed : 89.62%\n",
            "Computed : 90.09%\n",
            "Computed : 90.57%\n",
            "Computed : 91.04%\n",
            "Computed : 91.51%\n",
            "Computed : 91.98%\n",
            "Computed : 92.45%\n",
            "Computed : 92.92%\n",
            "Computed : 93.40%\n",
            "Computed : 93.87%\n",
            "Computed : 94.34%\n",
            "Computed : 94.81%\n",
            "Computed : 95.28%\n",
            "Computed : 95.75%\n",
            "Computed : 96.23%\n",
            "Computed : 96.70%\n",
            "Computed : 97.17%\n",
            "Computed : 97.64%\n"
          ]
        },
        {
          "output_type": "error",
          "ename": "KeyError",
          "evalue": "ignored",
          "traceback": [
            "\u001b[0;31m---------------------------------------------------------------------------\u001b[0m",
            "\u001b[0;31mKeyError\u001b[0m                                  Traceback (most recent call last)",
            "\u001b[0;32m<ipython-input-8-1fc0c59bfb31>\u001b[0m in \u001b[0;36m<module>\u001b[0;34m()\u001b[0m\n\u001b[1;32m     34\u001b[0m \u001b[0;31m# EXEC\u001b[0m\u001b[0;34m\u001b[0m\u001b[0;34m\u001b[0m\u001b[0;34m\u001b[0m\u001b[0m\n\u001b[1;32m     35\u001b[0m \u001b[0mstart\u001b[0m \u001b[0;34m=\u001b[0m \u001b[0mtime\u001b[0m\u001b[0;34m.\u001b[0m\u001b[0mtime\u001b[0m\u001b[0;34m(\u001b[0m\u001b[0;34m)\u001b[0m\u001b[0;34m\u001b[0m\u001b[0;34m\u001b[0m\u001b[0m\n\u001b[0;32m---> 36\u001b[0;31m \u001b[0mresult_set\u001b[0m \u001b[0;34m=\u001b[0m \u001b[0mjob\u001b[0m\u001b[0;34m.\u001b[0m\u001b[0mexec\u001b[0m\u001b[0;34m(\u001b[0m\u001b[0;34m)\u001b[0m\u001b[0;34m\u001b[0m\u001b[0;34m\u001b[0m\u001b[0m\n\u001b[0m\u001b[1;32m     37\u001b[0m \u001b[0mend\u001b[0m \u001b[0;34m=\u001b[0m \u001b[0mtime\u001b[0m\u001b[0;34m.\u001b[0m\u001b[0mtime\u001b[0m\u001b[0;34m(\u001b[0m\u001b[0;34m)\u001b[0m\u001b[0;34m\u001b[0m\u001b[0;34m\u001b[0m\u001b[0m\n\u001b[1;32m     38\u001b[0m \u001b[0mprint\u001b[0m\u001b[0;34m(\u001b[0m\u001b[0;34m\"Milliseconds spent working: \"\u001b[0m\u001b[0;34m,\u001b[0m\u001b[0;34m(\u001b[0m\u001b[0mend\u001b[0m \u001b[0;34m-\u001b[0m \u001b[0mstart\u001b[0m\u001b[0;34m)\u001b[0m\u001b[0;34m*\u001b[0m\u001b[0;36m1000\u001b[0m\u001b[0;34m)\u001b[0m\u001b[0;34m\u001b[0m\u001b[0;34m\u001b[0m\u001b[0m\n",
            "\u001b[0;32m/usr/local/lib/python3.7/dist-packages/bifrost/Job.py\u001b[0m in \u001b[0;36mexec\u001b[0;34m(self, slice_payment_offer, payment_account, initial_slice_profile)\u001b[0m\n\u001b[1;32m    415\u001b[0m         \u001b[0;32mif\u001b[0m \u001b[0;34m(\u001b[0m \u001b[0minitial_slice_profile\u001b[0m \u001b[0;34m!=\u001b[0m \u001b[0;32mFalse\u001b[0m \u001b[0;34m)\u001b[0m\u001b[0;34m:\u001b[0m\u001b[0;34m\u001b[0m\u001b[0;34m\u001b[0m\u001b[0m\n\u001b[1;32m    416\u001b[0m             \u001b[0mself\u001b[0m\u001b[0;34m.\u001b[0m\u001b[0minitial_slice_profile\u001b[0m \u001b[0;34m=\u001b[0m \u001b[0minitial_slice_profile\u001b[0m\u001b[0;34m\u001b[0m\u001b[0;34m\u001b[0m\u001b[0m\n\u001b[0;32m--> 417\u001b[0;31m         \u001b[0mresults\u001b[0m \u001b[0;34m=\u001b[0m \u001b[0mself\u001b[0m\u001b[0;34m.\u001b[0m\u001b[0m__dcp_run\u001b[0m\u001b[0;34m(\u001b[0m\u001b[0;34m)\u001b[0m\u001b[0;34m\u001b[0m\u001b[0;34m\u001b[0m\u001b[0m\n\u001b[0m\u001b[1;32m    418\u001b[0m         \u001b[0mself\u001b[0m\u001b[0;34m.\u001b[0m\u001b[0mresults\u001b[0m \u001b[0;34m=\u001b[0m \u001b[0mresults\u001b[0m\u001b[0;34m\u001b[0m\u001b[0;34m\u001b[0m\u001b[0m\n\u001b[1;32m    419\u001b[0m         \u001b[0;32mreturn\u001b[0m \u001b[0mresults\u001b[0m\u001b[0;34m\u001b[0m\u001b[0;34m\u001b[0m\u001b[0m\n",
            "\u001b[0;32m/usr/local/lib/python3.7/dist-packages/bifrost/Job.py\u001b[0m in \u001b[0;36m__dcp_run\u001b[0;34m(self)\u001b[0m\n\u001b[1;32m    365\u001b[0m         \u001b[0mnode_output\u001b[0m \u001b[0;34m=\u001b[0m \u001b[0mnode\u001b[0m\u001b[0;34m.\u001b[0m\u001b[0mrun\u001b[0m\u001b[0;34m(\u001b[0m\u001b[0mself\u001b[0m\u001b[0;34m.\u001b[0m\u001b[0mpython_deploy\u001b[0m\u001b[0;34m,\u001b[0m \u001b[0mrun_parameters\u001b[0m\u001b[0;34m)\u001b[0m\u001b[0;34m\u001b[0m\u001b[0;34m\u001b[0m\u001b[0m\n\u001b[1;32m    366\u001b[0m \u001b[0;34m\u001b[0m\u001b[0m\n\u001b[0;32m--> 367\u001b[0;31m         \u001b[0mresult_set\u001b[0m \u001b[0;34m=\u001b[0m \u001b[0mnode_output\u001b[0m\u001b[0;34m[\u001b[0m\u001b[0;34m'jobOutput'\u001b[0m\u001b[0;34m]\u001b[0m\u001b[0;34m\u001b[0m\u001b[0;34m\u001b[0m\u001b[0m\n\u001b[0m\u001b[1;32m    368\u001b[0m \u001b[0;34m\u001b[0m\u001b[0m\n\u001b[1;32m    369\u001b[0m         \u001b[0;32mfor\u001b[0m \u001b[0mresult_index\u001b[0m\u001b[0;34m,\u001b[0m \u001b[0mresult_slice\u001b[0m \u001b[0;32min\u001b[0m \u001b[0menumerate\u001b[0m\u001b[0;34m(\u001b[0m\u001b[0mresult_set\u001b[0m\u001b[0;34m)\u001b[0m\u001b[0;34m:\u001b[0m\u001b[0;34m\u001b[0m\u001b[0;34m\u001b[0m\u001b[0m\n",
            "\u001b[0;31mKeyError\u001b[0m: 'jobOutput'"
          ]
        }
      ],
      "source": [
        " # INPUT SET\n",
        "\n",
        "slices = reshape(gen_tests(20000), 100000)\n",
        "print(slices)\n",
        "\n",
        "# WORK FUNCTION\n",
        "def work_function(input_slice):\n",
        "  from sys import stdout\n",
        "  from math import sqrt, log\n",
        "  \n",
        "  def is_mersenne_prime ( p ):\n",
        "    if p == 2:\n",
        "      return True\n",
        "    else:\n",
        "      m_p = ( 1 << p ) - 1\n",
        "      s = 4\n",
        "      for i in range(3, p+1): \n",
        "        s = (s ** 2 - 2) % m_p\n",
        "      return s == 0\n",
        "  results = []\n",
        "\n",
        "  for i in range(len(input_slice)):\n",
        "    results.append([input_slice[i], is_mersenne_prime(input_slice[i])])\n",
        "  return results\n",
        "\n",
        "# COMPUTE_FOR\n",
        "job = dcp.compute_for(slices, work_function)\n",
        "\n",
        "# COMPUTE GROUP\n",
        "#job.requires(\"math\")\n",
        "#job.requires(\"sys\")\n",
        "\n",
        "# EXEC\n",
        "start = time.time()\n",
        "result_set = job.exec()\n",
        "end = time.time()\n",
        "print(\"Milliseconds spent working: \",(end - start)*1000)\n",
        "# DISPLAY RESULTS\n",
        "print (result_set)\n"
      ]
    }
  ],
  "metadata": {
    "colab": {
      "collapsed_sections": [],
      "name": "Mersenne.ipynb",
      "provenance": [],
      "toc_visible": true
    },
    "kernelspec": {
      "display_name": "Python 3",
      "name": "python3"
    },
    "language_info": {
      "name": "python"
    }
  },
  "nbformat": 4,
  "nbformat_minor": 0
}
